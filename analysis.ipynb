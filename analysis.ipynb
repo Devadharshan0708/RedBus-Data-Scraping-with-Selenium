{
 "cells": [
  {
   "cell_type": "code",
   "execution_count": 4,
   "metadata": {},
   "outputs": [],
   "source": [
    "import pandas as pd\n",
    "import mysql.connector \n",
    "import numpy as np"
   ]
  },
  {
   "cell_type": "code",
   "execution_count": 5,
   "metadata": {},
   "outputs": [],
   "source": [
    "dfbus1=pd.read_csv(\"bus_1_kerela.csv\")\n",
    "dfbus2=pd.read_csv(\"bus_2_andra.csv\")\n",
    "dfbus3=pd.read_csv(\"bus_3_Telungana.csv\")\n",
    "dfbus4=pd.read_csv(\"bus_4_Assam.csv\")\n",
    "dfbus5=pd.read_csv(\"bus_5_Harayana.csv\")\n",
    "dfbus6=pd.read_csv(\"bus_6_Punjab.csv\")\n",
    "dfbus7=pd.read_csv(\"bus_7_Rajasthan.csv\")\n",
    "dfbus8=pd.read_csv(\"bus_8_Southbengal.csv\")\n",
    "dfbus9=pd.read_csv(\"bus_9_UP.csv\")\n",
    "dfbus10=pd.read_csv(\"bus_10_WB.csv\")"
   ]
  },
  {
   "cell_type": "code",
   "execution_count": 6,
   "metadata": {},
   "outputs": [],
   "source": [
    "dfbus=pd.concat([dfbus1,dfbus2,dfbus3,dfbus4,dfbus5,dfbus6,dfbus7,dfbus8,dfbus9,dfbus10])"
   ]
  },
  {
   "cell_type": "code",
   "execution_count": 7,
   "metadata": {},
   "outputs": [
    {
     "data": {
      "text/html": [
       "<div>\n",
       "<style scoped>\n",
       "    .dataframe tbody tr th:only-of-type {\n",
       "        vertical-align: middle;\n",
       "    }\n",
       "\n",
       "    .dataframe tbody tr th {\n",
       "        vertical-align: top;\n",
       "    }\n",
       "\n",
       "    .dataframe thead th {\n",
       "        text-align: right;\n",
       "    }\n",
       "</style>\n",
       "<table border=\"1\" class=\"dataframe\">\n",
       "  <thead>\n",
       "    <tr style=\"text-align: right;\">\n",
       "      <th></th>\n",
       "      <th>Bus_name</th>\n",
       "      <th>Bus_type</th>\n",
       "      <th>Start_time</th>\n",
       "      <th>End_time</th>\n",
       "      <th>Total_duration</th>\n",
       "      <th>Price</th>\n",
       "      <th>Seats_Available</th>\n",
       "      <th>Ratings</th>\n",
       "      <th>Route_name</th>\n",
       "      <th>Route_link</th>\n",
       "    </tr>\n",
       "  </thead>\n",
       "  <tbody>\n",
       "    <tr>\n",
       "      <th>0</th>\n",
       "      <td>KSRTC (Kerala) - 52</td>\n",
       "      <td>SWIFT-GARUDA A/C SEATER BUS</td>\n",
       "      <td>12:00</td>\n",
       "      <td>20:05</td>\n",
       "      <td>08h 05m</td>\n",
       "      <td>812.0</td>\n",
       "      <td>26 Seats available</td>\n",
       "      <td>4.5\\n13</td>\n",
       "      <td>Bangalore to Kozhikode</td>\n",
       "      <td>https://www.redbus.in/bus-tickets/bangalore-to...</td>\n",
       "    </tr>\n",
       "    <tr>\n",
       "      <th>1</th>\n",
       "      <td>KSRTC (Kerala) - 1210</td>\n",
       "      <td>SWIFT-HYBRID NON AC SEATER CUM SLEEPER</td>\n",
       "      <td>12:55</td>\n",
       "      <td>20:45</td>\n",
       "      <td>07h 50m</td>\n",
       "      <td>677.0</td>\n",
       "      <td>17 Seats available</td>\n",
       "      <td>3.9\\n35</td>\n",
       "      <td>Bangalore to Kozhikode</td>\n",
       "      <td>https://www.redbus.in/bus-tickets/bangalore-to...</td>\n",
       "    </tr>\n",
       "    <tr>\n",
       "      <th>2</th>\n",
       "      <td>KSRTC (Kerala) - 1378</td>\n",
       "      <td>AC MULTI AXLE</td>\n",
       "      <td>13:46</td>\n",
       "      <td>21:25</td>\n",
       "      <td>07h 39m</td>\n",
       "      <td>965.0</td>\n",
       "      <td>20 Seats available</td>\n",
       "      <td>4.5\\n12</td>\n",
       "      <td>Bangalore to Kozhikode</td>\n",
       "      <td>https://www.redbus.in/bus-tickets/bangalore-to...</td>\n",
       "    </tr>\n",
       "    <tr>\n",
       "      <th>3</th>\n",
       "      <td>KSRTC (Kerala) - 129</td>\n",
       "      <td>SWIFT-GARUDA A/C SEATER BUS</td>\n",
       "      <td>14:15</td>\n",
       "      <td>22:25</td>\n",
       "      <td>08h 10m</td>\n",
       "      <td>812.0</td>\n",
       "      <td>38 Seats available</td>\n",
       "      <td>2.0\\n13</td>\n",
       "      <td>Bangalore to Kozhikode</td>\n",
       "      <td>https://www.redbus.in/bus-tickets/bangalore-to...</td>\n",
       "    </tr>\n",
       "    <tr>\n",
       "      <th>4</th>\n",
       "      <td>KSRTC (Kerala) - 235</td>\n",
       "      <td>Swift Deluxe Non AC Air Bus (2+2)</td>\n",
       "      <td>15:00</td>\n",
       "      <td>01:10</td>\n",
       "      <td>10h 10m</td>\n",
       "      <td>742.0</td>\n",
       "      <td>12 Seats available</td>\n",
       "      <td>NaN</td>\n",
       "      <td>Bangalore to Kozhikode</td>\n",
       "      <td>https://www.redbus.in/bus-tickets/bangalore-to...</td>\n",
       "    </tr>\n",
       "    <tr>\n",
       "      <th>...</th>\n",
       "      <td>...</td>\n",
       "      <td>...</td>\n",
       "      <td>...</td>\n",
       "      <td>...</td>\n",
       "      <td>...</td>\n",
       "      <td>...</td>\n",
       "      <td>...</td>\n",
       "      <td>...</td>\n",
       "      <td>...</td>\n",
       "      <td>...</td>\n",
       "    </tr>\n",
       "    <tr>\n",
       "      <th>43</th>\n",
       "      <td>Maa Chandi Travels</td>\n",
       "      <td>A/C Seater / Sleeper (2+2)</td>\n",
       "      <td>22:00</td>\n",
       "      <td>05:30</td>\n",
       "      <td>07h 30m</td>\n",
       "      <td>400.0</td>\n",
       "      <td>34 Seats available</td>\n",
       "      <td>4.3\\n110</td>\n",
       "      <td>Kolkata to Digha</td>\n",
       "      <td>https://www.redbus.in/bus-tickets/kolkata-to-d...</td>\n",
       "    </tr>\n",
       "    <tr>\n",
       "      <th>44</th>\n",
       "      <td>Sagufta Travels(Maa Chandi)</td>\n",
       "      <td>A/C Seater / Sleeper (2+2)</td>\n",
       "      <td>23:57</td>\n",
       "      <td>05:10</td>\n",
       "      <td>05h 13m</td>\n",
       "      <td>515.0</td>\n",
       "      <td>5 Seats available</td>\n",
       "      <td>4.1\\n212</td>\n",
       "      <td>Kolkata to Digha</td>\n",
       "      <td>https://www.redbus.in/bus-tickets/kolkata-to-d...</td>\n",
       "    </tr>\n",
       "    <tr>\n",
       "      <th>45</th>\n",
       "      <td>Maa Chandi Travels</td>\n",
       "      <td>A/C Seater / Sleeper (2+2)</td>\n",
       "      <td>23:57</td>\n",
       "      <td>05:10</td>\n",
       "      <td>05h 13m</td>\n",
       "      <td>400.0</td>\n",
       "      <td>37 Seats available</td>\n",
       "      <td>4.3\\n49</td>\n",
       "      <td>Kolkata to Digha</td>\n",
       "      <td>https://www.redbus.in/bus-tickets/kolkata-to-d...</td>\n",
       "    </tr>\n",
       "    <tr>\n",
       "      <th>46</th>\n",
       "      <td>Mayuri Express</td>\n",
       "      <td>AC Seater (2+2)</td>\n",
       "      <td>23:15</td>\n",
       "      <td>04:30</td>\n",
       "      <td>05h 15m</td>\n",
       "      <td>300.0</td>\n",
       "      <td>29 Seats available</td>\n",
       "      <td>4.3\\n19</td>\n",
       "      <td>Kolkata to Digha</td>\n",
       "      <td>https://www.redbus.in/bus-tickets/kolkata-to-d...</td>\n",
       "    </tr>\n",
       "    <tr>\n",
       "      <th>47</th>\n",
       "      <td>AdParameswar Travels</td>\n",
       "      <td>A/C Seater Push Back (2+3)</td>\n",
       "      <td>13:10</td>\n",
       "      <td>17:56</td>\n",
       "      <td>04h 46m</td>\n",
       "      <td>234.0</td>\n",
       "      <td>56 Seats available</td>\n",
       "      <td>3.9\\n34</td>\n",
       "      <td>Kolkata to Digha</td>\n",
       "      <td>https://www.redbus.in/bus-tickets/kolkata-to-d...</td>\n",
       "    </tr>\n",
       "  </tbody>\n",
       "</table>\n",
       "<p>592 rows × 10 columns</p>\n",
       "</div>"
      ],
      "text/plain": [
       "                       Bus_name                                Bus_type  \\\n",
       "0           KSRTC (Kerala) - 52             SWIFT-GARUDA A/C SEATER BUS   \n",
       "1         KSRTC (Kerala) - 1210  SWIFT-HYBRID NON AC SEATER CUM SLEEPER   \n",
       "2         KSRTC (Kerala) - 1378                           AC MULTI AXLE   \n",
       "3          KSRTC (Kerala) - 129             SWIFT-GARUDA A/C SEATER BUS   \n",
       "4          KSRTC (Kerala) - 235       Swift Deluxe Non AC Air Bus (2+2)   \n",
       "..                          ...                                     ...   \n",
       "43           Maa Chandi Travels              A/C Seater / Sleeper (2+2)   \n",
       "44  Sagufta Travels(Maa Chandi)              A/C Seater / Sleeper (2+2)   \n",
       "45           Maa Chandi Travels              A/C Seater / Sleeper (2+2)   \n",
       "46               Mayuri Express                         AC Seater (2+2)   \n",
       "47         AdParameswar Travels              A/C Seater Push Back (2+3)   \n",
       "\n",
       "   Start_time End_time Total_duration  Price     Seats_Available   Ratings  \\\n",
       "0       12:00    20:05        08h 05m  812.0  26 Seats available   4.5\\n13   \n",
       "1       12:55    20:45        07h 50m  677.0  17 Seats available   3.9\\n35   \n",
       "2       13:46    21:25        07h 39m  965.0  20 Seats available   4.5\\n12   \n",
       "3       14:15    22:25        08h 10m  812.0  38 Seats available   2.0\\n13   \n",
       "4       15:00    01:10        10h 10m  742.0  12 Seats available       NaN   \n",
       "..        ...      ...            ...    ...                 ...       ...   \n",
       "43      22:00    05:30        07h 30m  400.0  34 Seats available  4.3\\n110   \n",
       "44      23:57    05:10        05h 13m  515.0   5 Seats available  4.1\\n212   \n",
       "45      23:57    05:10        05h 13m  400.0  37 Seats available   4.3\\n49   \n",
       "46      23:15    04:30        05h 15m  300.0  29 Seats available   4.3\\n19   \n",
       "47      13:10    17:56        04h 46m  234.0  56 Seats available   3.9\\n34   \n",
       "\n",
       "                Route_name                                         Route_link  \n",
       "0   Bangalore to Kozhikode  https://www.redbus.in/bus-tickets/bangalore-to...  \n",
       "1   Bangalore to Kozhikode  https://www.redbus.in/bus-tickets/bangalore-to...  \n",
       "2   Bangalore to Kozhikode  https://www.redbus.in/bus-tickets/bangalore-to...  \n",
       "3   Bangalore to Kozhikode  https://www.redbus.in/bus-tickets/bangalore-to...  \n",
       "4   Bangalore to Kozhikode  https://www.redbus.in/bus-tickets/bangalore-to...  \n",
       "..                     ...                                                ...  \n",
       "43        Kolkata to Digha  https://www.redbus.in/bus-tickets/kolkata-to-d...  \n",
       "44        Kolkata to Digha  https://www.redbus.in/bus-tickets/kolkata-to-d...  \n",
       "45        Kolkata to Digha  https://www.redbus.in/bus-tickets/kolkata-to-d...  \n",
       "46        Kolkata to Digha  https://www.redbus.in/bus-tickets/kolkata-to-d...  \n",
       "47        Kolkata to Digha  https://www.redbus.in/bus-tickets/kolkata-to-d...  \n",
       "\n",
       "[592 rows x 10 columns]"
      ]
     },
     "execution_count": 7,
     "metadata": {},
     "output_type": "execute_result"
    }
   ],
   "source": [
    "dfbus"
   ]
  },
  {
   "cell_type": "markdown",
   "metadata": {},
   "source": [
    "# **Data Cleaning**\n"
   ]
  },
  {
   "cell_type": "code",
   "execution_count": 8,
   "metadata": {},
   "outputs": [
    {
     "name": "stdout",
     "output_type": "stream",
     "text": [
      "<class 'pandas.core.frame.DataFrame'>\n",
      "Index: 592 entries, 0 to 47\n",
      "Data columns (total 10 columns):\n",
      " #   Column           Non-Null Count  Dtype  \n",
      "---  ------           --------------  -----  \n",
      " 0   Bus_name         560 non-null    object \n",
      " 1   Bus_type         560 non-null    object \n",
      " 2   Start_time       560 non-null    object \n",
      " 3   End_time         560 non-null    object \n",
      " 4   Total_duration   560 non-null    object \n",
      " 5   Price            560 non-null    float64\n",
      " 6   Seats_Available  560 non-null    object \n",
      " 7   Ratings          540 non-null    object \n",
      " 8   Route_name       592 non-null    object \n",
      " 9   Route_link       592 non-null    object \n",
      "dtypes: float64(1), object(9)\n",
      "memory usage: 50.9+ KB\n"
     ]
    }
   ],
   "source": [
    "dfbus.info()"
   ]
  },
  {
   "cell_type": "code",
   "execution_count": 11,
   "metadata": {},
   "outputs": [
    {
     "name": "stderr",
     "output_type": "stream",
     "text": [
      "C:\\Users\\ddeva\\AppData\\Local\\Temp\\ipykernel_8668\\587082141.py:6: FutureWarning: A value is trying to be set on a copy of a DataFrame or Series through chained assignment using an inplace method.\n",
      "The behavior will change in pandas 3.0. This inplace method will never work because the intermediate object on which we are setting values always behaves as a copy.\n",
      "\n",
      "For example, when doing 'df[col].method(value, inplace=True)', try using 'df.method({col: value}, inplace=True)' or df[col] = df[col].method(value) instead, to perform the operation inplace on the original object.\n",
      "\n",
      "\n",
      "  dfbus[\"Ratings\"].fillna(0,inplace=True)\n"
     ]
    }
   ],
   "source": [
    "#convert Ratings to numeric\n",
    "dfbus[\"Ratings\"]=dfbus[\"Ratings\"].str.replace(\"New\",\"\")\n",
    "dfbus[\"Ratings\"]=dfbus[\"Ratings\"].str.strip()\n",
    "dfbus[\"Ratings\"]=dfbus[\"Ratings\"].str.split().str[0]\n",
    "dfbus[\"Ratings\"] = pd.to_numeric(dfbus[\"Ratings\"], errors='coerce')\n",
    "dfbus[\"Ratings\"].fillna(0,inplace=True) "
   ]
  },
  {
   "cell_type": "code",
   "execution_count": 12,
   "metadata": {},
   "outputs": [
    {
     "name": "stdout",
     "output_type": "stream",
     "text": [
      "<class 'pandas.core.frame.DataFrame'>\n",
      "Index: 592 entries, 0 to 47\n",
      "Data columns (total 10 columns):\n",
      " #   Column           Non-Null Count  Dtype  \n",
      "---  ------           --------------  -----  \n",
      " 0   Bus_name         560 non-null    object \n",
      " 1   Bus_type         560 non-null    object \n",
      " 2   Start_time       560 non-null    object \n",
      " 3   End_time         560 non-null    object \n",
      " 4   Total_duration   560 non-null    object \n",
      " 5   Price            560 non-null    float64\n",
      " 6   Seats_Available  560 non-null    object \n",
      " 7   Ratings          592 non-null    float64\n",
      " 8   Route_name       592 non-null    object \n",
      " 9   Route_link       592 non-null    object \n",
      "dtypes: float64(2), object(8)\n",
      "memory usage: 50.9+ KB\n"
     ]
    }
   ],
   "source": [
    "dfbus.info()"
   ]
  },
  {
   "cell_type": "code",
   "execution_count": 13,
   "metadata": {},
   "outputs": [],
   "source": [
    "dfbus = dfbus[dfbus[\"Price\"] <= 7000]"
   ]
  },
  {
   "cell_type": "code",
   "execution_count": 14,
   "metadata": {},
   "outputs": [],
   "source": [
    "# replacing the nan value\n",
    "dfbus = dfbus.replace({np.nan: None})"
   ]
  },
  {
   "cell_type": "code",
   "execution_count": 15,
   "metadata": {},
   "outputs": [],
   "source": [
    "dfbus.to_csv(\"dfbus.csv\",index=False)"
   ]
  },
  {
   "cell_type": "markdown",
   "metadata": {},
   "source": [
    "# **Create MySQL Data Base**\n"
   ]
  },
  {
   "cell_type": "code",
   "execution_count": 16,
   "metadata": {},
   "outputs": [
    {
     "name": "stdout",
     "output_type": "stream",
     "text": [
      "Requirement already satisfied: mysql-connector-python in c:\\users\\ddeva\\appdata\\local\\programs\\python\\python313\\lib\\site-packages (9.1.0)\n"
     ]
    }
   ],
   "source": [
    "! pip install mysql-connector-python"
   ]
  },
  {
   "cell_type": "code",
   "execution_count": 17,
   "metadata": {},
   "outputs": [
    {
     "name": "stdout",
     "output_type": "stream",
     "text": [
      "<mysql.connector.connection_cext.CMySQLConnection object at 0x00000187E25A6CF0>\n"
     ]
    }
   ],
   "source": [
    "import mysql.connector\n",
    "mydb=mysql.connector.connect(\n",
    "            host=\"127.0.0.1\",\n",
    "            port=3306,\n",
    "            user=\"root\",\n",
    "            password=\"******\",\n",
    "            database=\"REDBUS\",\n",
    ")\n",
    "\n",
    "\n",
    "print(mydb)\n",
    "mycursor = mydb.cursor(buffered=True)"
   ]
  },
  {
   "cell_type": "code",
   "execution_count": 19,
   "metadata": {},
   "outputs": [],
   "source": [
    "import mysql.connector\n",
    "\n",
    "connection = mysql.connector.connect(\n",
    "  host = \"127.0.0.1\",\n",
    "  port = 3306,\n",
    "  user = \"root\",\n",
    "  password = \"*******\",\n",
    "  database=\"REDBUS\"\n",
    " \n",
    ")"
   ]
  },
  {
   "cell_type": "code",
   "execution_count": 22,
   "metadata": {},
   "outputs": [
    {
     "name": "stdout",
     "output_type": "stream",
     "text": [
      "Table Created successfully\n"
     ]
    }
   ],
   "source": [
    "# Table Creation\n",
    "# mycursor.execute(\"CREATE TABLE Bus_Details(name VARCHAR(50),id VARCHAR(10),age INT(3))\") \n",
    "mycursor.execute(\"CREATE TABLE REDBUS.REDBUSdetails(\\\n",
    "                  ID INT AUTO_INCREMENT PRIMARY KEY,\\\n",
    "                  Bus_name VARCHAR(255) NOT NULL,\\\n",
    "                  Bus_type VARCHAR(255) NOT NULL,\\\n",
    "                  Start_time VARCHAR(255) NOT NULL,\\\n",
    "                  End_time VARCHAR(255) NOT NULL,\\\n",
    "                  Total_duration VARCHAR(255) NOT NULL,\\\n",
    "                  Price FLOAT NULL,\\\n",
    "                  Seats_Available VARCHAR(255) NOT NULL,\\\n",
    "                  Ratings Float NULL,\\\n",
    "                  Route_link VARCHAR(255) NULL,\\\n",
    "                  Route_name VARCHAR(255) NULL\\\n",
    "                  );\")\n",
    "print(\"Table Created successfully\")"
   ]
  },
  {
   "cell_type": "code",
   "execution_count": 24,
   "metadata": {},
   "outputs": [
    {
     "name": "stdout",
     "output_type": "stream",
     "text": [
      "Values inserted successfully\n"
     ]
    }
   ],
   "source": [
    "# SQL query to insert data into bus_details table\n",
    "insert_query = '''INSERT INTO REDBUS.REDBUSdetails(\n",
    "                    Bus_name,\n",
    "                    Bus_type,\n",
    "                    Start_time,\n",
    "                    End_time,\n",
    "                    Total_duration,\n",
    "                    Price,\n",
    "                    Seats_Available,\n",
    "                    Ratings,\n",
    "                    Route_link,\n",
    "                    Route_name)\n",
    "                  VALUES(%s, %s, %s, %s, %s, %s, %s, %s, %s, %s)'''\n",
    "data = dfbus.values.tolist()\n",
    "\n",
    "mycursor.executemany(insert_query, data)\n",
    "\n",
    "mydb.commit()\n",
    "\n",
    "print(\"Values inserted successfully\")"
   ]
  }
 ],
 "metadata": {
  "kernelspec": {
   "display_name": "Python 3",
   "language": "python",
   "name": "python3"
  },
  "language_info": {
   "codemirror_mode": {
    "name": "ipython",
    "version": 3
   },
   "file_extension": ".py",
   "mimetype": "text/x-python",
   "name": "python",
   "nbconvert_exporter": "python",
   "pygments_lexer": "ipython3",
   "version": "3.13.0"
  }
 },
 "nbformat": 4,
 "nbformat_minor": 2
}
